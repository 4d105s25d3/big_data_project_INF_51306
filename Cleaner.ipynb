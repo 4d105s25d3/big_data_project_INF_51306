{
 "cells": [
  {
   "cell_type": "code",
   "execution_count": 2,
   "metadata": {},
   "outputs": [],
   "source": [
    "\"\"\"\n",
    "Author: Ian Coleman\n",
    "Purpose: Import and clean CSV data regarding broilers\n",
    "\"\"\"\n",
    "\n",
    "from pyspark import SparkContext\n",
    "from pyspark.sql import SQLContext\n",
    "from pyspark.sql.types import *\n",
    "sqlContext = SQLContext(sc)\n",
    "sc = SparkContext.getOrCreate()\n",
    "\n",
    "\n",
    "conf = (SparkConf()\n",
    " .setMaster(\"local\")\n",
    " .setAppName(\"Cleaner\")\n",
    " .set(\"spark.executor.memory\", \"1g\"))"
   ]
  },
  {
   "cell_type": "code",
   "execution_count": 3,
   "metadata": {},
   "outputs": [
    {
     "name": "stdout",
     "output_type": "stream",
     "text": [
      "Your Python Version: 3.5\n",
      "Your Spark Version: 2.2.0\n"
     ]
    }
   ],
   "source": [
    "#Info on setup\n",
    "\n",
    "#Our Python version was 3.5\n",
    "print('Your Python Version:', sc.pythonVer)\n",
    "#Our SC version was 2.2\n",
    "print('Your Spark Version:', sc.version)\n"
   ]
  },
  {
   "cell_type": "code",
   "execution_count": 4,
   "metadata": {},
   "outputs": [],
   "source": [
    "#Establish DB as data frame\n",
    "df = sqlContext.read.load('FF_broilers_v2.csv', \n",
    "                      format='com.databricks.spark.csv', \n",
    "                      header='true', \n",
    "                      inferSchema='true')"
   ]
  },
  {
   "cell_type": "code",
   "execution_count": 9,
   "metadata": {},
   "outputs": [
    {
     "name": "stdout",
     "output_type": "stream",
     "text": [
      "<class 'pyspark.sql.dataframe.DataFrame'>\n"
     ]
    }
   ],
   "source": [
    "#Non-essential stuff, mostly to try out dataFrame manipulation\n",
    "# df.printSchema()\n",
    "# df.show(2, truncate=True)\n",
    "# df.columns\n",
    "# df.describe('Customer Code').show()\n",
    "# df2 = df.withColumnRenamed(\"Body Weight (g)\", 'BodyWeightGrams')\n",
    "# print(type(df))\n",
    "# print(type(df2))\n",
    "# df2.filter(df2.BodyWeightGrams == 44).count()\n",
    "# df2.orderBy(df2.BodyWeightGrams.desc()).show(5)\n",
    "# df2.describe('BodyWeightGrams').show()\n",
    "# output_df.orderBy(output_df.BodyWeightGrams.desc())\n",
    "# output_df = df2.withColumn(\"BodyWeightGrams\",df2[\"BodyWeightGrams\"].cast('float'))\n",
    "# output_df.filter(output_df.BodyWeightGrams.isNotNull()).count()\n",
    "# output_df.select('BodyWeightGrams').show(5)\n",
    "df2 = df.withColumnRenamed(\"Body Weight (g)\", 'BodyWeightGrams')\n",
    "output_df = df2.withColumn(\"BodyWeightGrams\",df2[\"BodyWeightGrams\"].cast('float'))\n",
    "df_cleaned = output_df.filter(output_df.BodyWeightGrams.isNotNull())"
   ]
  },
  {
   "cell_type": "code",
   "execution_count": 10,
   "metadata": {},
   "outputs": [
    {
     "data": {
      "text/plain": [
       "2032"
      ]
     },
     "execution_count": 10,
     "metadata": {},
     "output_type": "execute_result"
    }
   ],
   "source": [
    "#Create var of the db without rows lacking body weight or where body weight == 0\n",
    "df_cleaned.count()"
   ]
  },
  {
   "cell_type": "code",
   "execution_count": 17,
   "metadata": {},
   "outputs": [],
   "source": [
    "csv1 = sqlContext.read.load('test_data.csv',\n",
    "                           format='com.databricks.spark.csv',\n",
    "                           header ='true',\n",
    "                           inferSchema='true')"
   ]
  },
  {
   "cell_type": "code",
   "execution_count": 29,
   "metadata": {},
   "outputs": [
    {
     "data": {
      "text/plain": [
       "[Row(Number=1, Date='2017-01', NatNum='377'),\n",
       " Row(Number=2, Date='17-3', NatNum=' '),\n",
       " Row(Number=3, Date='17-03-2017', NatNum='822'),\n",
       " Row(Number=4, Date='Stringer', NatNum='1 073'),\n",
       " Row(Number=5, Date=None, NatNum='1 319'),\n",
       " Row(Number=6, Date='03-07-2011', NatNum='Strung'),\n",
       " Row(Number=7, Date='03/02/91', NatNum=None)]"
      ]
     },
     "execution_count": 29,
     "metadata": {},
     "output_type": "execute_result"
    }
   ],
   "source": [
    "csv1.take(9)"
   ]
  },
  {
   "cell_type": "code",
   "execution_count": 19,
   "metadata": {},
   "outputs": [
    {
     "name": "stdout",
     "output_type": "stream",
     "text": [
      "+-------+----------+\n",
      "|summary|      Date|\n",
      "+-------+----------+\n",
      "|  count|         6|\n",
      "|   mean|      null|\n",
      "| stddev|      null|\n",
      "|    min|03-07-2011|\n",
      "|    max|  Stringer|\n",
      "+-------+----------+\n",
      "\n"
     ]
    }
   ],
   "source": [
    "csv1.describe('Date').show()"
   ]
  },
  {
   "cell_type": "code",
   "execution_count": 32,
   "metadata": {},
   "outputs": [],
   "source": [
    "csv1_floats = csv1.withColumn('Date', csv1['Date'].cast('date'))"
   ]
  },
  {
   "cell_type": "code",
   "execution_count": 33,
   "metadata": {},
   "outputs": [
    {
     "data": {
      "text/plain": [
       "[Row(Number=1, Date=datetime.date(2017, 1, 1), NatNum='377'),\n",
       " Row(Number=2, Date=None, NatNum=' '),\n",
       " Row(Number=3, Date=None, NatNum='822'),\n",
       " Row(Number=4, Date=None, NatNum='1 073'),\n",
       " Row(Number=5, Date=None, NatNum='1 319'),\n",
       " Row(Number=6, Date=None, NatNum='Strung'),\n",
       " Row(Number=7, Date=None, NatNum=None)]"
      ]
     },
     "execution_count": 33,
     "metadata": {},
     "output_type": "execute_result"
    }
   ],
   "source": [
    "csv1_floats.take(9)"
   ]
  },
  {
   "cell_type": "code",
   "execution_count": null,
   "metadata": {},
   "outputs": [],
   "source": []
  }
 ],
 "metadata": {
  "kernelspec": {
   "display_name": "Python 2",
   "language": "python",
   "name": "python2"
  },
  "language_info": {
   "codemirror_mode": {
    "name": "ipython",
    "version": 3
   },
   "file_extension": ".py",
   "mimetype": "text/x-python",
   "name": "python",
   "nbconvert_exporter": "python",
   "pygments_lexer": "ipython3",
   "version": "3.5.2"
  }
 },
 "nbformat": 4,
 "nbformat_minor": 2
}
